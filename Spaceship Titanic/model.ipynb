{
 "cells": [
  {
   "cell_type": "code",
   "execution_count": 177,
   "metadata": {},
   "outputs": [],
   "source": [
    "import numpy as np\n",
    "import pandas as pd"
   ]
  },
  {
   "cell_type": "code",
   "execution_count": 178,
   "metadata": {},
   "outputs": [],
   "source": [
    "train_path = 'data/train.csv'\n",
    "df = pd.read_csv(train_path)\n"
   ]
  },
  {
   "cell_type": "code",
   "execution_count": 179,
   "metadata": {},
   "outputs": [
    {
     "data": {
      "text/html": [
       "<div>\n",
       "<style scoped>\n",
       "    .dataframe tbody tr th:only-of-type {\n",
       "        vertical-align: middle;\n",
       "    }\n",
       "\n",
       "    .dataframe tbody tr th {\n",
       "        vertical-align: top;\n",
       "    }\n",
       "\n",
       "    .dataframe thead th {\n",
       "        text-align: right;\n",
       "    }\n",
       "</style>\n",
       "<table border=\"1\" class=\"dataframe\">\n",
       "  <thead>\n",
       "    <tr style=\"text-align: right;\">\n",
       "      <th></th>\n",
       "      <th>PassengerId</th>\n",
       "      <th>HomePlanet</th>\n",
       "      <th>CryoSleep</th>\n",
       "      <th>Cabin</th>\n",
       "      <th>Destination</th>\n",
       "      <th>Age</th>\n",
       "      <th>VIP</th>\n",
       "      <th>RoomService</th>\n",
       "      <th>FoodCourt</th>\n",
       "      <th>ShoppingMall</th>\n",
       "      <th>Spa</th>\n",
       "      <th>VRDeck</th>\n",
       "      <th>Name</th>\n",
       "      <th>Transported</th>\n",
       "    </tr>\n",
       "  </thead>\n",
       "  <tbody>\n",
       "    <tr>\n",
       "      <th>0</th>\n",
       "      <td>0001_01</td>\n",
       "      <td>Europa</td>\n",
       "      <td>False</td>\n",
       "      <td>B/0/P</td>\n",
       "      <td>TRAPPIST-1e</td>\n",
       "      <td>39.0</td>\n",
       "      <td>False</td>\n",
       "      <td>0.0</td>\n",
       "      <td>0.0</td>\n",
       "      <td>0.0</td>\n",
       "      <td>0.0</td>\n",
       "      <td>0.0</td>\n",
       "      <td>Maham Ofracculy</td>\n",
       "      <td>False</td>\n",
       "    </tr>\n",
       "    <tr>\n",
       "      <th>1</th>\n",
       "      <td>0002_01</td>\n",
       "      <td>Earth</td>\n",
       "      <td>False</td>\n",
       "      <td>F/0/S</td>\n",
       "      <td>TRAPPIST-1e</td>\n",
       "      <td>24.0</td>\n",
       "      <td>False</td>\n",
       "      <td>109.0</td>\n",
       "      <td>9.0</td>\n",
       "      <td>25.0</td>\n",
       "      <td>549.0</td>\n",
       "      <td>44.0</td>\n",
       "      <td>Juanna Vines</td>\n",
       "      <td>True</td>\n",
       "    </tr>\n",
       "    <tr>\n",
       "      <th>2</th>\n",
       "      <td>0003_01</td>\n",
       "      <td>Europa</td>\n",
       "      <td>False</td>\n",
       "      <td>A/0/S</td>\n",
       "      <td>TRAPPIST-1e</td>\n",
       "      <td>58.0</td>\n",
       "      <td>True</td>\n",
       "      <td>43.0</td>\n",
       "      <td>3576.0</td>\n",
       "      <td>0.0</td>\n",
       "      <td>6715.0</td>\n",
       "      <td>49.0</td>\n",
       "      <td>Altark Susent</td>\n",
       "      <td>False</td>\n",
       "    </tr>\n",
       "    <tr>\n",
       "      <th>3</th>\n",
       "      <td>0003_02</td>\n",
       "      <td>Europa</td>\n",
       "      <td>False</td>\n",
       "      <td>A/0/S</td>\n",
       "      <td>TRAPPIST-1e</td>\n",
       "      <td>33.0</td>\n",
       "      <td>False</td>\n",
       "      <td>0.0</td>\n",
       "      <td>1283.0</td>\n",
       "      <td>371.0</td>\n",
       "      <td>3329.0</td>\n",
       "      <td>193.0</td>\n",
       "      <td>Solam Susent</td>\n",
       "      <td>False</td>\n",
       "    </tr>\n",
       "    <tr>\n",
       "      <th>4</th>\n",
       "      <td>0004_01</td>\n",
       "      <td>Earth</td>\n",
       "      <td>False</td>\n",
       "      <td>F/1/S</td>\n",
       "      <td>TRAPPIST-1e</td>\n",
       "      <td>16.0</td>\n",
       "      <td>False</td>\n",
       "      <td>303.0</td>\n",
       "      <td>70.0</td>\n",
       "      <td>151.0</td>\n",
       "      <td>565.0</td>\n",
       "      <td>2.0</td>\n",
       "      <td>Willy Santantines</td>\n",
       "      <td>True</td>\n",
       "    </tr>\n",
       "  </tbody>\n",
       "</table>\n",
       "</div>"
      ],
      "text/plain": [
       "  PassengerId HomePlanet CryoSleep  Cabin  Destination   Age    VIP  \\\n",
       "0     0001_01     Europa     False  B/0/P  TRAPPIST-1e  39.0  False   \n",
       "1     0002_01      Earth     False  F/0/S  TRAPPIST-1e  24.0  False   \n",
       "2     0003_01     Europa     False  A/0/S  TRAPPIST-1e  58.0   True   \n",
       "3     0003_02     Europa     False  A/0/S  TRAPPIST-1e  33.0  False   \n",
       "4     0004_01      Earth     False  F/1/S  TRAPPIST-1e  16.0  False   \n",
       "\n",
       "   RoomService  FoodCourt  ShoppingMall     Spa  VRDeck               Name  \\\n",
       "0          0.0        0.0           0.0     0.0     0.0    Maham Ofracculy   \n",
       "1        109.0        9.0          25.0   549.0    44.0       Juanna Vines   \n",
       "2         43.0     3576.0           0.0  6715.0    49.0      Altark Susent   \n",
       "3          0.0     1283.0         371.0  3329.0   193.0       Solam Susent   \n",
       "4        303.0       70.0         151.0   565.0     2.0  Willy Santantines   \n",
       "\n",
       "   Transported  \n",
       "0        False  \n",
       "1         True  \n",
       "2        False  \n",
       "3        False  \n",
       "4         True  "
      ]
     },
     "execution_count": 179,
     "metadata": {},
     "output_type": "execute_result"
    }
   ],
   "source": [
    "df.head()"
   ]
  },
  {
   "cell_type": "code",
   "execution_count": 180,
   "metadata": {},
   "outputs": [],
   "source": [
    "df = df.dropna()"
   ]
  },
  {
   "cell_type": "code",
   "execution_count": 181,
   "metadata": {},
   "outputs": [],
   "source": [
    "from sklearn.preprocessing import MinMaxScaler\n",
    "\n",
    "scalable_features = ['Age','RoomService','FoodCourt','ShoppingMall','Spa','VRDeck']\n",
    "scaler = MinMaxScaler()\n",
    "df[scalable_features]= scaler.fit_transform(df[scalable_features])"
   ]
  },
  {
   "cell_type": "markdown",
   "metadata": {},
   "source": [
    "Work on: encode some features into binary ones, while leaving the others the same."
   ]
  },
  {
   "cell_type": "code",
   "execution_count": 182,
   "metadata": {},
   "outputs": [],
   "source": [
    "from sklearn.preprocessing import OneHotEncoder\n",
    "encoder = OneHotEncoder(handle_unknown='ignore', sparse=False)\n",
    "\n",
    "features = ['HomePlanet','CryoSleep','Cabin','Destination','Age','VIP','RoomService','FoodCourt','ShoppingMall','Spa','VRDeck']\n",
    "encoder.fit(df[features])\n",
    "\n",
    "\n",
    "\n",
    "train_X=encoder.transform(df[features])\n",
    "train_y=df.Transported.astype(int)\n",
    "\n"
   ]
  },
  {
   "cell_type": "code",
   "execution_count": 183,
   "metadata": {},
   "outputs": [
    {
     "data": {
      "text/plain": [
       "PassengerId     False\n",
       "HomePlanet      False\n",
       "CryoSleep       False\n",
       "Cabin           False\n",
       "Destination     False\n",
       "Age             False\n",
       "VIP             False\n",
       "RoomService     False\n",
       "FoodCourt       False\n",
       "ShoppingMall    False\n",
       "Spa             False\n",
       "VRDeck          False\n",
       "Name            False\n",
       "Transported     False\n",
       "dtype: bool"
      ]
     },
     "execution_count": 183,
     "metadata": {},
     "output_type": "execute_result"
    }
   ],
   "source": [
    "df.isnull().any()"
   ]
  },
  {
   "cell_type": "code",
   "execution_count": 188,
   "metadata": {},
   "outputs": [
    {
     "name": "stdout",
     "output_type": "stream",
     "text": [
      "11014\n"
     ]
    }
   ],
   "source": [
    "print(len(train_X[0]))"
   ]
  },
  {
   "cell_type": "code",
   "execution_count": null,
   "metadata": {},
   "outputs": [],
   "source": [
    "from sklearn.model_selection import train_test_split\n",
    "\n",
    "red_train_X, val_X, red_train_y, val_y = train_test_split(train_X, train_y, test_size=0.2, random_state=42)"
   ]
  },
  {
   "cell_type": "code",
   "execution_count": null,
   "metadata": {},
   "outputs": [],
   "source": [
    "red_train_X, red_train_y, val_X, val_y = red_train_X.to_numpy(), red_train_y.to_numpy(), val_X.to_numpy(), val_y.to_numpy()"
   ]
  },
  {
   "cell_type": "code",
   "execution_count": null,
   "metadata": {},
   "outputs": [],
   "source": [
    "from keras import models\n",
    "from keras import layers\n",
    "\n",
    "model = models.Sequential()\n",
    "model.add(layers.Dense(64, activation='relu', input_shape = (len(red_train_X[0]),)))\n",
    "model.add(layers.Dense(64, activation='relu'))\n",
    "model.add(layers.Dense(1,activation='sigmoid'))"
   ]
  },
  {
   "cell_type": "code",
   "execution_count": null,
   "metadata": {},
   "outputs": [],
   "source": [
    "from tensorflow.keras.optimizers import Adam\n",
    "model.compile(optimizer=Adam(learning_rate=0.001), loss = 'binary_crossentropy', metrics=['accuracy'])"
   ]
  },
  {
   "cell_type": "code",
   "execution_count": null,
   "metadata": {},
   "outputs": [],
   "source": [
    "red_train_y, val_y = red_train_y.astype('float32'), val_y.astype('float32')"
   ]
  },
  {
   "cell_type": "code",
   "execution_count": null,
   "metadata": {},
   "outputs": [
    {
     "name": "stdout",
     "output_type": "stream",
     "text": [
      "[0. 0. 1. ... 0. 0. 1.]\n"
     ]
    }
   ],
   "source": [
    "print(red_train_y)"
   ]
  },
  {
   "cell_type": "code",
   "execution_count": null,
   "metadata": {},
   "outputs": [
    {
     "name": "stdout",
     "output_type": "stream",
     "text": [
      "Epoch 1/20\n",
      "21/21 [==============================] - 1s 23ms/step - loss: 0.6702 - accuracy: 0.6928 - val_loss: 0.6354 - val_accuracy: 0.7239\n",
      "Epoch 2/20\n",
      "21/21 [==============================] - 0s 14ms/step - loss: 0.5844 - accuracy: 0.7311 - val_loss: 0.5602 - val_accuracy: 0.7254\n",
      "Epoch 3/20\n",
      "21/21 [==============================] - 0s 15ms/step - loss: 0.4991 - accuracy: 0.7525 - val_loss: 0.5317 - val_accuracy: 0.7352\n",
      "Epoch 4/20\n",
      "21/21 [==============================] - 0s 16ms/step - loss: 0.4158 - accuracy: 0.7850 - val_loss: 0.5045 - val_accuracy: 0.7534\n",
      "Epoch 5/20\n",
      "21/21 [==============================] - 0s 13ms/step - loss: 0.3022 - accuracy: 0.8821 - val_loss: 0.4892 - val_accuracy: 0.7625\n",
      "Epoch 6/20\n",
      "21/21 [==============================] - 0s 15ms/step - loss: 0.1901 - accuracy: 0.9610 - val_loss: 0.4894 - val_accuracy: 0.7640\n",
      "Epoch 7/20\n",
      "21/21 [==============================] - 0s 17ms/step - loss: 0.1191 - accuracy: 0.9735 - val_loss: 0.5161 - val_accuracy: 0.7542\n",
      "Epoch 8/20\n",
      "21/21 [==============================] - 0s 15ms/step - loss: 0.0852 - accuracy: 0.9745 - val_loss: 0.5175 - val_accuracy: 0.7579\n",
      "Epoch 9/20\n",
      "21/21 [==============================] - 0s 12ms/step - loss: 0.0684 - accuracy: 0.9769 - val_loss: 0.5379 - val_accuracy: 0.7595\n",
      "Epoch 10/20\n",
      "21/21 [==============================] - 0s 14ms/step - loss: 0.0603 - accuracy: 0.9773 - val_loss: 0.5468 - val_accuracy: 0.7549\n",
      "Epoch 11/20\n",
      "21/21 [==============================] - 0s 16ms/step - loss: 0.0539 - accuracy: 0.9782 - val_loss: 0.5612 - val_accuracy: 0.7504\n",
      "Epoch 12/20\n",
      "21/21 [==============================] - 0s 18ms/step - loss: 0.0494 - accuracy: 0.9811 - val_loss: 0.5812 - val_accuracy: 0.7549\n",
      "Epoch 13/20\n",
      "21/21 [==============================] - 0s 14ms/step - loss: 0.0483 - accuracy: 0.9794 - val_loss: 0.5940 - val_accuracy: 0.7474\n",
      "Epoch 14/20\n",
      "21/21 [==============================] - 0s 14ms/step - loss: 0.0444 - accuracy: 0.9807 - val_loss: 0.5841 - val_accuracy: 0.7579\n",
      "Epoch 15/20\n",
      "21/21 [==============================] - 0s 17ms/step - loss: 0.0415 - accuracy: 0.9830 - val_loss: 0.5978 - val_accuracy: 0.7587\n",
      "Epoch 16/20\n",
      "21/21 [==============================] - 0s 14ms/step - loss: 0.0409 - accuracy: 0.9820 - val_loss: 0.5957 - val_accuracy: 0.7549\n",
      "Epoch 17/20\n",
      "21/21 [==============================] - 0s 12ms/step - loss: 0.0379 - accuracy: 0.9833 - val_loss: 0.6008 - val_accuracy: 0.7655\n",
      "Epoch 18/20\n",
      "21/21 [==============================] - 0s 13ms/step - loss: 0.0368 - accuracy: 0.9824 - val_loss: 0.6109 - val_accuracy: 0.7602\n",
      "Epoch 19/20\n",
      "21/21 [==============================] - 0s 12ms/step - loss: 0.0359 - accuracy: 0.9847 - val_loss: 0.6278 - val_accuracy: 0.7496\n",
      "Epoch 20/20\n",
      "21/21 [==============================] - 0s 13ms/step - loss: 0.0346 - accuracy: 0.9850 - val_loss: 0.6309 - val_accuracy: 0.7549\n"
     ]
    }
   ],
   "source": [
    "history = model.fit(red_train_X,red_train_y,epochs = 20,batch_size=256, validation_data=(val_X,val_y))"
   ]
  },
  {
   "cell_type": "code",
   "execution_count": null,
   "metadata": {},
   "outputs": [],
   "source": [
    "final_model = models.Sequential()\n",
    "final_model.add(layers.Dense(64, activation='relu', input_shape = (len(red_train_X[0]),)))\n",
    "final_model.add(layers.Dense(64, activation='relu'))\n",
    "final_model.add(layers.Dense(1,activation='sigmoid'))"
   ]
  },
  {
   "cell_type": "code",
   "execution_count": null,
   "metadata": {},
   "outputs": [
    {
     "name": "stdout",
     "output_type": "stream",
     "text": [
      "Epoch 1/20\n",
      "26/26 [==============================] - 1s 18ms/step - loss: 0.1516 - accuracy: 0.9373\n",
      "Epoch 2/20\n",
      "26/26 [==============================] - 0s 16ms/step - loss: 0.0678 - accuracy: 0.9764\n",
      "Epoch 3/20\n",
      "26/26 [==============================] - 0s 16ms/step - loss: 0.0457 - accuracy: 0.9832\n",
      "Epoch 4/20\n",
      "26/26 [==============================] - 0s 18ms/step - loss: 0.0381 - accuracy: 0.9852\n",
      "Epoch 5/20\n",
      "26/26 [==============================] - 1s 20ms/step - loss: 0.0358 - accuracy: 0.9856\n",
      "Epoch 6/20\n",
      "26/26 [==============================] - 0s 18ms/step - loss: 0.0332 - accuracy: 0.9864\n",
      "Epoch 7/20\n",
      "26/26 [==============================] - 0s 17ms/step - loss: 0.0315 - accuracy: 0.9862\n",
      "Epoch 8/20\n",
      "26/26 [==============================] - 0s 17ms/step - loss: 0.0300 - accuracy: 0.9862\n",
      "Epoch 9/20\n",
      "26/26 [==============================] - 0s 16ms/step - loss: 0.0287 - accuracy: 0.9864\n",
      "Epoch 10/20\n",
      "26/26 [==============================] - 0s 16ms/step - loss: 0.0276 - accuracy: 0.9865\n",
      "Epoch 11/20\n",
      "26/26 [==============================] - 0s 15ms/step - loss: 0.0271 - accuracy: 0.9873\n",
      "Epoch 12/20\n",
      "26/26 [==============================] - 1s 21ms/step - loss: 0.0265 - accuracy: 0.9882\n",
      "Epoch 13/20\n",
      "26/26 [==============================] - 0s 18ms/step - loss: 0.0260 - accuracy: 0.9886\n",
      "Epoch 14/20\n",
      "26/26 [==============================] - 0s 16ms/step - loss: 0.0280 - accuracy: 0.9879\n",
      "Epoch 15/20\n",
      "26/26 [==============================] - 0s 15ms/step - loss: 0.0265 - accuracy: 0.9870\n",
      "Epoch 16/20\n",
      "26/26 [==============================] - 0s 17ms/step - loss: 0.0234 - accuracy: 0.9883\n",
      "Epoch 17/20\n",
      "26/26 [==============================] - 0s 17ms/step - loss: 0.0237 - accuracy: 0.9883\n",
      "Epoch 18/20\n",
      "26/26 [==============================] - 0s 19ms/step - loss: 0.0228 - accuracy: 0.9893\n",
      "Epoch 19/20\n",
      "26/26 [==============================] - 0s 16ms/step - loss: 0.0223 - accuracy: 0.9900\n",
      "Epoch 20/20\n",
      "26/26 [==============================] - 0s 14ms/step - loss: 0.0219 - accuracy: 0.9879\n"
     ]
    }
   ],
   "source": [
    "history = model.fit(train_X,train_y,epochs = 20,batch_size=256)"
   ]
  },
  {
   "cell_type": "code",
   "execution_count": null,
   "metadata": {},
   "outputs": [],
   "source": [
    "test_path = 'data/test.csv'\n",
    "test_X = pd.read_csv(test_path)\n"
   ]
  }
 ],
 "metadata": {
  "kernelspec": {
   "display_name": "Python 3",
   "language": "python",
   "name": "python3"
  },
  "language_info": {
   "codemirror_mode": {
    "name": "ipython",
    "version": 3
   },
   "file_extension": ".py",
   "mimetype": "text/x-python",
   "name": "python",
   "nbconvert_exporter": "python",
   "pygments_lexer": "ipython3",
   "version": "3.7.0"
  }
 },
 "nbformat": 4,
 "nbformat_minor": 2
}
